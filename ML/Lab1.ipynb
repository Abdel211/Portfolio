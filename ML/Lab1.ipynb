{
 "cells": [
  {
   "cell_type": "markdown",
   "id": "93ffe3cd",
   "metadata": {},
   "source": [
    "# Lab1 (5IR - 2024): Human Activity Recognition (HAR) - Supervised learning\n",
    "\n",
    "**Group name:** Abdel & Amine\n",
    "\n",
    "**Names:** Anka Soubaai , Hatibi \n",
    "\n",
    "**First names:** Abdelmajid , Amine \n",
    "\n",
    "\n",
    "\n",
    "In this project, we will try to predict 8 different human activities: \n",
    "\n",
    "1-Recumbent, 2-Sitting, 3-Standing, 4-Walking, 5-Biking, 6-Nordic Walking, 7-Cleaning_Aspirator or 8-Repassing \n",
    "\n",
    "using different sensors (accelerometer, gyroscope, magnetometer or temperature) placed at different points on the body (hand, torso and ankle).\n",
    "\n",
    "\n",
    "For the accelerometer, gyroscope and magnetometer sensors, measurements in $ms^{-2}$, $rad/s$ and $\\mu T$ respectively are taken on the 3-axes at a sampling rate of 100Hz. Each measurement is labeled.\n",
    "\n",
    "<img src=\"HARDataset.JPG\" width=\"800\" height=\"600\" >\n",
    "\n",
    "For each sensor and position, a matrix of the measurements collected is provided, along with the activity label (i.e. the ground truth). \n",
    "\n",
    "This tutorial is divided into 3 parts:\n",
    "- Part I: Implementing DTW to create a k-NN recognition system;\n",
    "- Part II: Dimension reduction using PCA and classification using neural networks;\n",
    "- Part III: (Bonus) Dimension reduction using k-medoids for DTW + k-NN."
   ]
  },
  {
   "cell_type": "markdown",
   "id": "26b1ff3c",
   "metadata": {},
   "source": [
    "**Introduction :** \n",
    "Nous avions traiter deux parties de ce TP qui sont les suivants : \n",
    "\n",
    "Partie I : Mise en œuvre de l'algorithme DTW pour créer un système de reconnaissance k-NN.\n",
    "Partie II : Réduction de dimension via PCA et classification à l'aide de réseaux neuronaux.\n",
    "\n",
    "Chaque section de ce lab vise à apporter une compréhension approfondie du processus de reconnaissance d'activité humaine, couvrant des sujets allant de la DTW à l'utilisation de réseaux neuronaux. \n",
    "\n",
    "Afin de faciliter le processus de débogage et d'éviter des temps d'attente excessifs lors de l'exécution du code, nous avons délibérément opté pour l'utilisation d'une plage de données réduite. Il est important de noter que cette décision ne signifie pas que nous n'avons pas effectué des tests sur un ensemble beaucoup plus vaste de données. Cependant, cette approche a conduit à des valeurs d'exactitude (accuracy) particulièrement élevées. Il est crucial de souligner que dès que le nombre de données est augmenté, dépassant notamment les 500 valeurs, nous observons une diminution de cette exactitude.\n",
    "\n",
    "Si vous souhaitez tester notre programme avec un ensemble de données plus important, nous vous encourageons à modifier la liste de données comme suit :\n",
    "\n",
    "- **listeData = DataHandAcc[5000:5010, :5, 0]** en augumentant le nombre de datas ou changeant carrement la datas ici on a fait un exemple avec celle d'une main \n",
    "\n",
    "Vous avez la possibilité de modifier cette plage de données pour inclure un nombre plus important de valeurs et ainsi évaluer la performance du programme dans des conditions plus représentatives."
   ]
  },
  {
   "cell_type": "code",
   "execution_count": 1,
   "id": "5e2aa238",
   "metadata": {},
   "outputs": [],
   "source": [
    "import matplotlib.pyplot as plt\n",
    "import numpy as np\n",
    "import sklearn\n",
    "import pandas as pd\n",
    "import math\n",
    "from scipy import stats\n",
    "import seaborn as sns\n",
    "from sklearn.neighbors import KNeighborsClassifier\n",
    "import numpy as np\n",
    "from sklearn.model_selection import train_test_split\n",
    "from sklearn.metrics import accuracy_score\n",
    "from sklearn.metrics import confusion_matrix\n",
    "import time "
   ]
  },
  {
   "cell_type": "markdown",
   "id": "ad5c110d",
   "metadata": {},
   "source": [
    "# Loading training and test data"
   ]
  },
  {
   "cell_type": "markdown",
   "id": "f9c3866f",
   "metadata": {},
   "source": []
  },
  {
   "cell_type": "code",
   "execution_count": 2,
   "id": "9554966c",
   "metadata": {},
   "outputs": [
    {
     "data": {
      "image/png": "[encoded data removed]",
      "text/plain": [
       "<Figure size 640x480 with 1 Axes>"
      ]
     },
     "metadata": {},
     "output_type": "display_data"
    }
   ],
   "source": [
    "# Data loading\n",
    "\n",
    "# Sensors part (Accelerometer, Gyroscope and Magnetometer) placed on the Hand \n",
    "# (do the same for the 2 other sensor positions: torso and ankle)\n",
    "fh1=np.load('DataHandAcc.npz')\n",
    "DataHandAcc=fh1['DataHandAcc']\n",
    "fh2=np.load('DataHandGyro.npz')\n",
    "DataHandGyro=fh2['DataHandGyro']\n",
    "fh3=np.load('DataHandMagneto.npz')\n",
    "DataHandMagneto=fh3['DataHandMagneto']\n",
    "\n",
    "\n",
    "# Chest dats\n",
    "ft1 = np.load('DataChestAcc.npz')\n",
    "DataTorsoAcc = ft1['DataChestAcc']\n",
    "ft2 = np.load('DataChestGyro.npz')\n",
    "DataTorsoGyro = ft2['DataChestGyro']\n",
    "ft3 = np.load('DataChestMagneto.npz')\n",
    "DataTorsoMagneto = ft3['DataChestMagneto']\n",
    "\n",
    "# Ankle datas\n",
    "fa1 = np.load('DataAnkleAcc.npz')\n",
    "DataAnkleAcc = fa1['DataAnkleAcc']\n",
    "fa2 = np.load('DataAnkleGyro.npz')\n",
    "DataAnkleGyro = fa2['DataAnkleGyro']\n",
    "fa3 = np.load('DataAnkleMagneto.npz')\n",
    "DataAnkleMagneto = fa3['DataAnkleMagneto']\n",
    "\n",
    "\n",
    "\n",
    "# Loading the ground truth: labels\n",
    "fl=np.load('labels.npz')\n",
    "labels=fl['labels']\n",
    "\n",
    "# Repartition of data by class\n",
    "plt.hist(labels,bins=16)\n",
    "plt.xlabel('Differentes activites')\n",
    "plt.ylabel('Nombre de donnees')\n",
    "plt.title('Réparti des activités dans le jeu de datas')\n",
    "plt.show()\n",
    "\n"
   ]
  },
  {
   "cell_type": "raw",
   "id": "9dba4d49",
   "metadata": {},
   "source": [
    "Le graphique ci-dessus illustre la répartition des différentes activités au sein du jeu de données. Chacune des huit activités humaines à prédire est représentée, offrant un aperçu initial de la distribution des données que nous explorerons d'avantage tout au long de notre analyse."
   ]
  },
  {
   "cell_type": "code",
   "execution_count": 3,
   "id": "107d7b03",
   "metadata": {},
   "outputs": [],
   "source": [
    "# Separation of data into training and test databases\n",
    "from sklearn.model_selection import train_test_split\n",
    "\n",
    "listeData=DataHandAcc\n",
    "Liste_Base_train, Liste_Base_test, y_train, y_test = train_test_split(listeData,labels, test_size=0.20, random_state=42)\n"
   ]
  },
  {
   "cell_type": "raw",
   "id": "d8f28333",
   "metadata": {},
   "source": [
    "Cette section présente la séparation de notre jeu de données en ensembles d'entraînement et de test. "
   ]
  },
  {
   "cell_type": "markdown",
   "id": "59938594",
   "metadata": {},
   "source": [
    "# Part I-a: Implementing the dynamic programming algorithm \n",
    "\n",
    "1. Write a function in DTW python that implements the calculation. Implement it such that\n",
    "- the local distance used is a parameter which is a callable function with 2 inputs and 1 output: e.g. euclidian distance(a, b)\n",
    "- local distances can be computed with any type of input local data: e.g. (a,b)=('A','T'), (a,b)=(12,22), (a,b)=( (1,2,3), (4,5,6) )."
   ]
  },
  {
   "cell_type": "code",
   "execution_count": 4,
   "id": "70d7321c",
   "metadata": {
    "scrolled": true
   },
   "outputs": [
    {
     "name": "stdout",
     "output_type": "stream",
     "text": [
      "Alignment Score 1D: 1.5\n",
      "Alignment Score Time Series Global constraint at 2: 0.2\n",
      "Alignment Score Time Series with Diagonal Penalization: 0.3\n",
      "Alignment Score Time Series without Diagonal Penalization: inf\n",
      "Alignment Score 2D: 2.1213203435596424\n",
      "Alignment Score  3D: 2.598076211353316\n"
     ]
    }
   ],
   "source": [
    "def euclidean_distance(a, b):\n",
    "    return np.linalg.norm(np.array(a) - np.array(b))\n",
    "\n",
    "\n",
    "\n",
    "# Utilisation du Pseudo Code Cours \n",
    "\n",
    "def dtw_algorithm(A, B, dist_func, w0, w1, w2, gamma):\n",
    "    N, M = len(A), len(B)\n",
    "\n",
    "    \n",
    "    # Initialisation de la Matrice avec des vals larges\n",
    "    g = np.full((N + 1, M + 1), np.inf)\n",
    "    g[0, 0] = 0\n",
    "\n",
    "    \n",
    "    for j in range(1, M + 1):\n",
    "        g[0, j] = np.inf\n",
    "\n",
    "    for i in range(1, N + 1):\n",
    "        g[i, 0] = np.inf\n",
    "\n",
    "    for i in range(1, N + 1):\n",
    "        for j in range(1, M + 1):\n",
    "            if abs(i - j) >= gamma:\n",
    "                continue\n",
    "            \n",
    "            locald = dist_func(A[i - 1], B[j - 1])\n",
    "            g[i, j] = min(\n",
    "                g[i - 1, j] + w0 * locald,\n",
    "                g[i - 1, j - 1] + w1 * locald,\n",
    "                g[i, j - 1] + w2 * locald\n",
    "            )\n",
    "\n",
    "    # Score D'allignement\n",
    "    S = g[N, M] / (N + M)\n",
    "\n",
    "    return S\n",
    "\n",
    "# Exemple avec une  Distance euclidienne 1D\n",
    "\n",
    "sequence_A = [1, 2, 3]\n",
    "sequence_B = [4, 5, 6]\n",
    "w0, w1, w2, gamma = 1, 1, 1, 1\n",
    "alignment_score_1d = dtw_algorithm(sequence_A, sequence_B, euclidean_distance, w0, w1, w2, gamma)\n",
    "print(f\"Alignment Score 1D: {alignment_score_1d}\")\n",
    "\n",
    "# Exemple Distance  contrainte gloable à 2 \n",
    "\n",
    "sequence_C = [1, 2, 3, 4, 5]\n",
    "sequence_D = [2, 3, 4, 5, 6]\n",
    "w0, w1, w2, gamma1 = 1, 1, 1, 4\n",
    "alignment_score_ts_global = dtw_algorithm(sequence_C, sequence_D, euclidean_distance, w0, w1, w2, gamma1)\n",
    "print(f\"Alignment Score Time Series Global constraint at 2: {alignment_score_ts_global}\")\n",
    "\n",
    "# Example Distance avec diagrame penalization\n",
    "w0, w11, w2, gamma2, gamma3 = 1, 2, 1, 2, 0\n",
    "alignment_score_diag_penalized = dtw_algorithm(sequence_C, sequence_D, euclidean_distance, w0, w11, w2, gamma2)\n",
    "print(f\"Alignment Score Time Series with Diagonal Penalization: {alignment_score_diag_penalized}\")\n",
    "\n",
    "alignment_score_no_diag_penalized = dtw_algorithm(sequence_C, sequence_D, euclidean_distance, w0, w11, w2, gamma3)\n",
    "print(f\"Alignment Score Time Series without Diagonal Penalization: {alignment_score_no_diag_penalized}\")\n",
    "\n",
    "# Example 2D\n",
    "sequence_A_2d = [(1, 2), (2, 3), (3, 4)]\n",
    "sequence_B_2d = [(4, 5), (5, 6), (6, 7)]\n",
    "alignment_score_2d = dtw_algorithm(sequence_A_2d, sequence_B_2d, euclidean_distance, w0, w1, w2, gamma)\n",
    "print(f\"Alignment Score 2D: {alignment_score_2d}\")\n",
    "\n",
    "# Example 3D\n",
    "sequence_A_3d = [(1, 2, 3), (2, 3, 4), (3, 4, 5)]\n",
    "sequence_B_3d = [(4, 5, 6), (5, 6, 7), (6, 7, 8)]\n",
    "alignment_score_3d = dtw_algorithm(sequence_A_3d, sequence_B_3d, euclidean_distance, w0, w1, w2, gamma)\n",
    "print(f\"Alignment Score  3D: {alignment_score_3d}\")\n"
   ]
  },
  {
   "cell_type": "markdown",
   "id": "3529048f",
   "metadata": {},
   "source": [
    "2. Test your methods on the examples given in class."
   ]
  },
  {
   "cell_type": "markdown",
   "id": "d1039a9b",
   "metadata": {},
   "source": [
    "\n",
    "\n",
    "1. **Alignment Score 1D: 1.5**\n",
    "   - Pour des séquences 1D, le score d'alignement de 1.5 indique une bonne similarité.\n",
    "\n",
    "2. **Alignment Score Time Series Global constraint at 2: 0.2**\n",
    "   - L'ajout d'une contrainte globale de 2 réduit le score à 0.2, reflétant la prise en compte de cette contrainte.\n",
    "\n",
    "3. **Alignment Score Time Series with Diagonal Penalization: 0.3**\n",
    "   - L'ajout d'une pénalisation diagonale augmente le score à 0.3, montrant une considération de la structure diagonale.\n",
    "\n",
    "4. **Alignment Score Time Series without Diagonal Penalization: inf**\n",
    "   - L'absence de pénalisation diagonale (gamma3 = 0) conduit à un score infini , donc on déduit que la pénalisation diag est importante . \n",
    "\n",
    "5. **Alignment Score 2D: 2.12**\n",
    "   - Pour des séquences 2D, le score d'alignement de 2.12 indique une bonne similarité.\n",
    "\n",
    "6. **Alignment Score 3D: 2.60**\n",
    "   - Pour des séquences 3D, le score d'alignement de 2.60 indique une bonne similarité.\n",
    "\n",
    "**Bilan :** \n",
    "- Gamma influence la sensibilité de l'algorithme aux variations \n",
    "- La nature des données (1D, 2D, 3D) impacte le calcul du score d'alignement "
   ]
  },
  {
   "cell_type": "markdown",
   "id": "6d8f68d7",
   "metadata": {},
   "source": [
    "# Part I-b: DTW human activity recognition system\n",
    "\n",
    "For each test time profile :\n",
    "\n",
    "a) For each class, compute the DTW score between the test temporal profile and the temporal profiles of the class. Test with data from only one sensor then include them all if possible.\n",
    "\n",
    "b) Determine the class membership by k-nearest neighbors"
   ]
  },
  {
   "cell_type": "markdown",
   "id": "fc22b477",
   "metadata": {},
   "source": [
    "**Information:**\n",
    "We use the library sklearn.neighbors to execute an example of this classification algorithm.\n",
    "\n",
    "The algorithm k-NN is implemented in a package called **neighbors**.\n",
    "Here are the main commands:\n",
    "- The line **clf = neighbors.KNeighborsClassifier(n_neighbors)** creates an object of type classifier based on the n_neighbors closest neighbors,\n",
    "- The instruction clf.fit(X, y) uses the data to define the classifier (training),\n",
    "- The command **clf.predict()** is used to classify the new examples,\n",
    "- The command **clf.predict_proba()** allows to estimate the probability of the proposed classification,\n",
    "- The command **clf.score(xtest, ytest)** computes the global score of the classifier for a given dataset.\n",
    "\n",
    "<img src=\"https://miro.medium.com/v2/resize:fit:488/1*9h-WczF6csbeut5vsvjSUA.gif\" alt=\"k-NN example\" />\n",
    "\n",
    "KNeighborsClassifier takes as argument *metrics* which can be:\n",
    "- a string with the distance name: default='minkowski'\n",
    "- a callable function taking as input 2 arrays representing 1D vectors and returning one value indicating the distance between those vectors. **Use this option with the DTW function you implemented.**"
   ]
  },
  {
   "cell_type": "code",
   "execution_count": 5,
   "id": "b17008b6",
   "metadata": {},
   "outputs": [
    {
     "name": "stdout",
     "output_type": "stream",
     "text": [
      "\n",
      "Testing with 1 neighbors:\n",
      "Test Profile Index: 0, Predicted Class: 1, Scores DTW: [3.0695250034332275, 0.731404972076416, 1.0279560565948487, 6.121555042266846, 3.272575044631958, 0.43248796463012695, 0.3719940185546875, 5.27195520401001]\n",
      "Test Profile Index: 1, Predicted Class: 1, Scores DTW: [2.5587180137634276, 0.6997499942779541, 0.8468290328979492, 5.610747814178467, 2.7617680549621584, 0.9432949542999267, 0.5625329494476319, 4.7611480236053465]\n",
      "\n",
      "Testing with 3 neighbors:\n",
      "Test Profile Index: 0, Predicted Class: 1, Scores DTW: [3.0695250034332275, 0.731404972076416, 1.0279560565948487, 6.121555042266846, 3.272575044631958, 0.43248796463012695, 0.3719940185546875, 5.27195520401001]\n",
      "Test Profile Index: 1, Predicted Class: 1, Scores DTW: [2.5587180137634276, 0.6997499942779541, 0.8468290328979492, 5.610747814178467, 2.7617680549621584, 0.9432949542999267, 0.5625329494476319, 4.7611480236053465]\n",
      "\n",
      "Testing with 5 neighbors:\n",
      "Test Profile Index: 0, Predicted Class: 1, Scores DTW: [3.0695250034332275, 0.731404972076416, 1.0279560565948487, 6.121555042266846, 3.272575044631958, 0.43248796463012695, 0.3719940185546875, 5.27195520401001]\n",
      "Test Profile Index: 1, Predicted Class: 1, Scores DTW: [2.5587180137634276, 0.6997499942779541, 0.8468290328979492, 5.610747814178467, 2.7617680549621584, 0.9432949542999267, 0.5625329494476319, 4.7611480236053465]\n",
      "\n",
      "Testing with 7 neighbors:\n",
      "Test Profile Index: 0, Predicted Class: 1, Scores DTW: [3.0695250034332275, 0.731404972076416, 1.0279560565948487, 6.121555042266846, 3.272575044631958, 0.43248796463012695, 0.3719940185546875, 5.27195520401001]\n",
      "Test Profile Index: 1, Predicted Class: 1, Scores DTW: [2.5587180137634276, 0.6997499942779541, 0.8468290328979492, 5.610747814178467, 2.7617680549621584, 0.9432949542999267, 0.5625329494476319, 4.7611480236053465]\n"
     ]
    }
   ],
   "source": [
    "import numpy as np\n",
    "from sklearn.neighbors import KNeighborsClassifier\n",
    "from sklearn.model_selection import train_test_split\n",
    "\n",
    "#  Nous avons verifier que DataAnkleAcc est une 3D\n",
    "# Adjust the shape accordingly based on your actual data structure\n",
    "# Separation des data en training & test databases \n",
    "listeData = DataHandAcc[5000:5010, :5, 0]  \n",
    "Liste_Base_train, Liste_Base_test, y_train, y_test = train_test_split(listeData, labels[:10], test_size=0.20, random_state=42)\n",
    "\n",
    "def calculate_dtw_scores(test_profile, class_profiles, dist_func, w0, w1, w2, gamma):\n",
    "    dtw_scores = []\n",
    "    for class_profile in class_profiles:\n",
    "        score = dtw_algorithm(test_profile, class_profile, dist_func, w0, w1, w2, gamma)\n",
    "        dtw_scores.append(score)\n",
    "    return dtw_scores\n",
    "\n",
    "# Loop pour faire varier les valeurs de K voisins\n",
    "for k_neighbors in [1, 3, 5, 7]:\n",
    "    print(f\"\\nTesting with {k_neighbors} neighbors:\")\n",
    "    \n",
    "    # Loop pour les tetss indices\n",
    "    for test_profile_index in range(len(Liste_Base_test)):\n",
    "        test_profile = Liste_Base_test[test_profile_index]\n",
    "\n",
    "        # Loop pour les classes\n",
    "        for class_label in np.unique(y_train):\n",
    "            class_indices = np.where(y_train == class_label)\n",
    "            class_data = Liste_Base_train[class_indices]\n",
    "\n",
    "            # Calcul du score DTW\n",
    "            w00, w11, w22, gamma1 = 1, 1, 1, 4\n",
    "            dtw_scores = calculate_dtw_scores(test_profile, class_data, euclidean_distance, w00, w11, w22, gamma1)\n",
    "\n",
    "            # Utilisation du KNN pour determiner la classe\n",
    "            knn_classifier = KNeighborsClassifier(n_neighbors=k_neighbors)\n",
    "\n",
    "            # Convertir la DTW score en 2 D\n",
    "            dtw_scores_matrix = np.array(dtw_scores).reshape(-1, 1)\n",
    "\n",
    "           \n",
    "            if len(dtw_scores_matrix) == len(class_data):\n",
    "                knn_classifier.fit(dtw_scores_matrix, np.full(len(class_data), class_label))\n",
    "                predicted_class = knn_classifier.predict(np.array([dtw_scores]).reshape(-1, 1))[0]\n",
    "\n",
    "                print(f\"Test Profile Index: {test_profile_index}, Predicted Class: {predicted_class}, Scores DTW: {dtw_scores}\")\n",
    "            else:\n",
    "                print(\"Les dimensions des données ne correspondent pas.\")\n"
   ]
  },
  {
   "cell_type": "markdown",
   "id": "1ea43ab3",
   "metadata": {},
   "source": [
    "**Interprétation des Résultats :**\n",
    "\n",
    "Les résultats obtenus avec différentes valeurs de k dans le modèle k-NN ont montré : \n",
    "- Une prédominance de prédictions de classe 1 pour les profils de test. Cependant, ces observations pourraient être spécifiques à la taille restreinte de l'échantillon de données. Il est nécessaire de considérer des ensembles de données plus vastes ( on le mets pas dans ce Notebook afin de vous faciliter la tache de debugger ).\n",
    "- Des scores DTW  bas indiquant une similarité élevée"
   ]
  },
  {
   "cell_type": "markdown",
   "id": "fc297003",
   "metadata": {},
   "source": [
    "## **Evaluation:** \n",
    "From the prediction on the test set obtained after DTW, compute the confusion matrix that counts the number of well-ranked and poorly-ranked data.\n",
    "\n",
    "Analyse the results (accuracy, execution time, ...)"
   ]
  },
  {
   "cell_type": "code",
   "execution_count": 11,
   "id": "970ad445",
   "metadata": {},
   "outputs": [
    {
     "name": "stdout",
     "output_type": "stream",
     "text": [
      "\n",
      "Testing with 1 neighbors:\n",
      "Test Profile Index: 0, True Class: 1, Predicted Class: 1, Scores DTW: [3.0695250034332275, 0.731404972076416, 1.0279560565948487, 6.121555042266846, 3.272575044631958, 0.43248796463012695, 0.3719940185546875, 5.27195520401001]\n",
      "Test Profile Index: 1, True Class: 1, Predicted Class: 1, Scores DTW: [2.5587180137634276, 0.6997499942779541, 0.8468290328979492, 5.610747814178467, 2.7617680549621584, 0.9432949542999267, 0.5625329494476319, 4.7611480236053465]\n",
      "\n",
      "Temps d'exécution pour l'ensemble de test : 0.026311635971069336 secondes\n",
      "\n",
      "Testing with 3 neighbors:\n",
      "Test Profile Index: 0, True Class: 1, Predicted Class: 1, Scores DTW: [3.0695250034332275, 0.731404972076416, 1.0279560565948487, 6.121555042266846, 3.272575044631958, 0.43248796463012695, 0.3719940185546875, 5.27195520401001]\n",
      "Test Profile Index: 1, True Class: 1, Predicted Class: 1, Scores DTW: [2.5587180137634276, 0.6997499942779541, 0.8468290328979492, 5.610747814178467, 2.7617680549621584, 0.9432949542999267, 0.5625329494476319, 4.7611480236053465]\n",
      "\n",
      "Temps d'exécution pour l'ensemble de test : 0.02313995361328125 secondes\n",
      "\n",
      "Testing with 5 neighbors:\n",
      "Test Profile Index: 0, True Class: 1, Predicted Class: 1, Scores DTW: [3.0695250034332275, 0.731404972076416, 1.0279560565948487, 6.121555042266846, 3.272575044631958, 0.43248796463012695, 0.3719940185546875, 5.27195520401001]\n",
      "Test Profile Index: 1, True Class: 1, Predicted Class: 1, Scores DTW: [2.5587180137634276, 0.6997499942779541, 0.8468290328979492, 5.610747814178467, 2.7617680549621584, 0.9432949542999267, 0.5625329494476319, 4.7611480236053465]\n",
      "\n",
      "Temps d'exécution pour l'ensemble de test : 0.21299505233764648 secondes\n",
      "\n",
      "Testing with 7 neighbors:\n",
      "Test Profile Index: 0, True Class: 1, Predicted Class: 1, Scores DTW: [3.0695250034332275, 0.731404972076416, 1.0279560565948487, 6.121555042266846, 3.272575044631958, 0.43248796463012695, 0.3719940185546875, 5.27195520401001]\n",
      "Test Profile Index: 1, True Class: 1, Predicted Class: 1, Scores DTW: [2.5587180137634276, 0.6997499942779541, 0.8468290328979492, 5.610747814178467, 2.7617680549621584, 0.9432949542999267, 0.5625329494476319, 4.7611480236053465]\n",
      "\n",
      "Temps d'exécution pour l'ensemble de test : 0.4986863136291504 secondes\n",
      "\n",
      "Matrice de Confusion :\n",
      "[[8]]\n",
      "\n",
      "Accuracy : 1.0\n"
     ]
    }
   ],
   "source": [
    "\n",
    "# liste pour stocker les vals predits pour tout les test prfl \n",
    "y_true_all = []\n",
    "y_pred_all = []\n",
    "\n",
    "# ici je refais ce que j'ai fait auparavant car je n'ai pas pu stocker les true and predicted label en liste\n",
    "for k_neighbors in [1, 3, 5, 7]:\n",
    "    print(f\"\\nTesting with {k_neighbors} neighbors:\")\n",
    "    \n",
    "    # Pour mesurer le temps d'exécution pour chaque configuration de voisins\n",
    "    start_time = time.time()\n",
    "   \n",
    "    for test_profile_index in range(len(Liste_Base_test)):\n",
    "        test_profile = Liste_Base_test[test_profile_index]\n",
    "        true_label = y_test[test_profile_index]\n",
    "\n",
    "        dtw_scores_all = []\n",
    "\n",
    "        for class_label in np.unique(y_train):\n",
    "            class_indices = np.where(y_train == class_label)[0]\n",
    "            class_data = Liste_Base_train[class_indices]\n",
    "\n",
    "            w00, w11, w22, gamma1 = 1, 1, 1, 4\n",
    "            dtw_scores = calculate_dtw_scores(test_profile, class_data, euclidean_distance, w00, w11, w22, gamma1)\n",
    "\n",
    "            dtw_scores_all.append(dtw_scores)\n",
    "\n",
    "        knn_classifier = KNeighborsClassifier(n_neighbors=k_neighbors)\n",
    "\n",
    "        dtw_scores_matrix = np.array(dtw_scores_all).T\n",
    "\n",
    "        if len(dtw_scores_matrix) == len(y_train):\n",
    "            knn_classifier.fit(dtw_scores_matrix, y_train)\n",
    "            predicted_class = knn_classifier.predict(np.array([dtw_scores]).reshape(-1, 1))[0]\n",
    "\n",
    "            # Stocker les true & predict label dans une liste \n",
    "            y_true_all.append(true_label)\n",
    "            y_pred_all.append(predicted_class)\n",
    "\n",
    "            print(f\"Test Profile Index: {test_profile_index}, True Class: {true_label}, Predicted Class: {predicted_class}, Scores DTW: {dtw_scores}\")\n",
    "        else:\n",
    "            print(\"Les dimensions des données ne correspondent pas.\")\n",
    "\n",
    "    # Calculer le temps d'exécution pour chaque configuration de voisins\n",
    "    elapsed_time_all = time.time() - start_time\n",
    "    print('\\nTemps d\\'exécution pour l\\'ensemble de test :', elapsed_time_all, 'secondes')\n",
    "\n",
    "# Conversion en np pour avoir la matrice de confusion\n",
    "y_true_all = np.array(y_true_all)\n",
    "y_pred_all = np.array(y_pred_all)\n",
    "\n",
    "# Matrice de confusion\n",
    "conf_matrix_all = confusion_matrix(y_true_all, y_pred_all)\n",
    "\n",
    "# Accuracy\n",
    "accuracy_all = accuracy_score(y_true_all, y_pred_all)\n",
    "\n",
    "# Résultats\n",
    "print('\\nMatrice de Confusion :')\n",
    "print(conf_matrix_all)\n",
    "print('\\nAccuracy :', accuracy_all)\n"
   ]
  },
  {
   "cell_type": "markdown",
   "id": "7d8edcad",
   "metadata": {},
   "source": [
    "**Interprétation des Résultats :**\n",
    "\n",
    "- Le modèle DTW-KNN affiche une précision parfaite de 100%, indiquant une prédiction correcte de toutes les classes dans l'ensemble de test.\n",
    "- Les temps d'exécution sont globalement faibles. \n",
    "\n",
    "**RQ :** Il est nécessaire de considérer des ensembles de données plus vastes ( on le mets pas dans ce Notebook afin de vous faciliter la tache de debugger ).Nous avons essayer avec d'autre datas il suffit juste de changer ici **listeData = DataHandAcc[5000:5010, :5, 0]**   par la data qu'on veut et de prendre le nombre de datas dans notre cas on prends que 10 valeurs pour vous faciliter la lecture . "
   ]
  },
  {
   "cell_type": "markdown",
   "id": "c0d70e84",
   "metadata": {},
   "source": [
    "# Part II: Comparison of dynamic programming with a neural network classification method after PCA dimension reduction\n",
    "\n",
    "In this section, we will compare the results of DTW with those of a data classification method: neural networks (Multi-Layer Perceptron).\n",
    "\n",
    "We'll be using the functions for calculating PCA and MLPClassifier via the *scikit-learn* python library."
   ]
  },
  {
   "cell_type": "code",
   "execution_count": 12,
   "id": "613b4dac",
   "metadata": {},
   "outputs": [],
   "source": [
    "import sklearn\n",
    "from sklearn.preprocessing import StandardScaler\n",
    "from sklearn.neighbors import KNeighborsClassifier\n",
    "from mpl_toolkits.mplot3d import Axes3D\n",
    "from sklearn.decomposition import PCA"
   ]
  },
  {
   "cell_type": "markdown",
   "id": "5b33eb99",
   "metadata": {},
   "source": [
    "### PCA pre-processing\n",
    "\n",
    "\n",
    "To test another classification method, \n",
    "\n",
    "\n",
    "1. From the Data_App data in the training database, and using the *PCA* function in the *scikit-learn* library, calculate the $p$ principal axes of the PCA by\n",
    "extracting the $p$ eigenvectors, denoted $X_1$, $X_2$,..., $X_p$, associated with the $p$ largest eigenvalues of the variance-covariance matrix\n",
    "variance-covariance matrix $\\Sigma_{App}$. These eigenvectors will form the new database.\n",
    "\n",
    "\n",
    "2. Project the data from the training and test database into this new database by multiplying each vector\n",
    "vector by the base $P = [X_1X_2...X_p]$.\n",
    "\n",
    "\n",
    "*Note:* you can also implement PCA by extracting the\n",
    "extracting the $p$ eigenvectors, denoted $X_1$, $X_2$,... $X_p$, associated with the $p$ largest eigenvalues of the\n",
    "variance-covariance matrix $\\Sigma_{App}$ (by the functions *np.cov* and *np.linalg.eig*). These eigenvectors will form the new frame P. Then project the data from the training and test frames into this new frame by multiplying each vector by the frame $P = [X_1X_2..X_p]$."
   ]
  },
  {
   "cell_type": "code",
   "execution_count": 42,
   "id": "871f3d7b",
   "metadata": {},
   "outputs": [
    {
     "name": "stdout",
     "output_type": "stream",
     "text": [
      "Principal Axes for Training Data:\n",
      "Principal Axis 1: [ 0.22360682  0.22360678 -0.22360678 -0.22360678 -0.22360678  0.22360678\n",
      "  0.22360678  0.22360678  0.22360678  0.22360678  0.22360678  0.22360678\n",
      "  0.22360678  0.22360678  0.22360678  0.22360678  0.22360678  0.22360678\n",
      "  0.22360678  0.22360678]\n",
      "Principal Axis 2: [ 0.9746795  -0.05129896  0.05129892  0.05129892  0.05129892 -0.05129892\n",
      " -0.05129892 -0.05129892 -0.05129892 -0.05129892 -0.05129892 -0.05129892\n",
      " -0.05129892 -0.05129892 -0.05129892 -0.05129892 -0.05129892 -0.05129892\n",
      " -0.05129892 -0.05129892]\n"
     ]
    },
    {
     "ename": "ValueError",
     "evalue": "shapes (2,20) and (2,2) not aligned: 20 (dim 1) != 2 (dim 0)",
     "output_type": "error",
     "traceback": [
      "\u001b[0;31m---------------------------------------------------------------------------\u001b[0m",
      "\u001b[0;31mValueError\u001b[0m                                Traceback (most recent call last)",
      "Cell \u001b[0;32mIn[42], line 19\u001b[0m\n\u001b[1;32m     16\u001b[0m     \u001b[38;5;28mprint\u001b[39m(\u001b[38;5;124mf\u001b[39m\u001b[38;5;124m\"\u001b[39m\u001b[38;5;124mPrincipal Axis \u001b[39m\u001b[38;5;132;01m{\u001b[39;00mi\u001b[38;5;250m \u001b[39m\u001b[38;5;241m+\u001b[39m\u001b[38;5;250m \u001b[39m\u001b[38;5;241m1\u001b[39m\u001b[38;5;132;01m}\u001b[39;00m\u001b[38;5;124m: \u001b[39m\u001b[38;5;132;01m{\u001b[39;00mpca_train\u001b[38;5;241m.\u001b[39mcomponents_[i]\u001b[38;5;132;01m}\u001b[39;00m\u001b[38;5;124m\"\u001b[39m)\n\u001b[1;32m     18\u001b[0m \u001b[38;5;66;03m# Question 2 \u001b[39;00m\n\u001b[0;32m---> 19\u001b[0m projected_train_data \u001b[38;5;241m=\u001b[39m np\u001b[38;5;241m.\u001b[39mdot(standardized_train_data, principal_axes_train\u001b[38;5;241m.\u001b[39mT)\n\u001b[1;32m     20\u001b[0m projected_test_data \u001b[38;5;241m=\u001b[39m np\u001b[38;5;241m.\u001b[39mdot(standardized_test_data, principal_axes_train\u001b[38;5;241m.\u001b[39mT)\n",
      "File \u001b[0;32m<__array_function__ internals>:180\u001b[0m, in \u001b[0;36mdot\u001b[0;34m(*args, **kwargs)\u001b[0m\n",
      "\u001b[0;31mValueError\u001b[0m: shapes (2,20) and (2,2) not aligned: 20 (dim 1) != 2 (dim 0)"
     ]
    }
   ],
   "source": [
    "Data_App_train = Liste_Base_train\n",
    "Data_App_test= Liste_Base_test\n",
    " \n",
    "n_components_train = 2\n",
    "flattened_data_train = Data_App_train.reshape((Data_App_train.shape[0], -1))\n",
    "flattened_data_test = Data_App_train.reshape((Data_App_test.shape[0], -1))\n",
    "scaler_train = StandardScaler()\n",
    "standardized_train_data = scaler_train.fit_transform(flattened_data_train)\n",
    "standardized_train_data = scaler_train.fit_transform(flattened_data_test)\n",
    "pca_train = PCA(n_components=n_components_train)\n",
    "principal_axes_train = pca_train.fit_transform(standardized_train_data)\n",
    "\n",
    "\n",
    "print(\"Principal Axes for Training Data:\")\n",
    "for i in range(n_components_train):\n",
    "    print(f\"Principal Axis {i + 1}: {pca_train.components_[i]}\")\n",
    "\n",
    "# Question 2 \n",
    "projected_train_data = np.dot(standardized_train_data, principal_axes_train.T)\n",
    "projected_test_data = np.dot(standardized_test_data, principal_axes_train.T)"
   ]
  },
  {
   "cell_type": "markdown",
   "id": "5fdfff9e",
   "metadata": {},
   "source": [
    "Ici j'ai une erreur au niveau des size je ne sais pas pourquoi !!!!!"
   ]
  },
  {
   "cell_type": "markdown",
   "id": "27000e5e",
   "metadata": {},
   "source": [
    "### Classification using neural networks\n",
    "1. Classification using neural networks\n",
    "2. Evaluate results using confusion matrix, loss function, etc.\n",
    "3. Test different architectures and solvers: train on the training set and compute score on the test set\n",
    "\n",
    "Analyse the results (accuracy, execution time, ...)"
   ]
  },
  {
   "cell_type": "markdown",
   "id": "99145ad3",
   "metadata": {},
   "source": [
    "We will use the library **sklearn.model_selection** to develop ANN of type Multi Layer Perceptron (MLP). We use the class: MLPClassifier.\n",
    "\n",
    "<img src=\"https://rasbt.github.io/mlxtend/user_guide/classifier/NeuralNetMLP_files/neuralnet_mlp_1.png\" alt=\"MLP example\" />\n",
    "\n",
    "This model optimizes the cross entropy function (loss function) and a gradient based method.\n",
    "The main parameters of this class are:\n",
    "- **hidden_layer_sizes** is a tuple that specifies the number of neurons in each hidden layer; from the entrance to the exit. For example, a unique hidden layer of 55 neurons, hidden_layer_sizes = (55); for three hidden layers of size respectively 50, 12 and 100 neurons, hidden_layer_sizes = (50, 12, 100).\n",
    "- **activation** defines the activation function for hidden layers: {\"identity\", \"logistic\", \"tanh\", \"relu\"}, default \"relu\"\n",
    "    - ‘identity’, no-op activation, linear bottleneck, returns f(x) = x\n",
    "    - ‘logistic’, logistic sigmoid function, returns f(x) = 1 / (1 + exp(-x)).\n",
    "    - ‘tanh’, hyperbolic tan function, returns f(x) = tanh(x).\n",
    "    - ‘relu’, rectified linear unit function, returns f(x) = max(0, x)\n",
    "- **solver** {\"lbfgs\", \"sgd\", \"adam\"} specifies the algorithm used to minimize the output loss function. \"Adam\" is implemented by default for large databases. For small databases, ‘lbfgs’ may converge better.\n",
    "- **alpha** default value=0.0001: is the magnitude of the L2 regularization. It is a method of regulation (to prevent overfitting) whose purpose is to penalize heavy weights. We add the penalty to the cost function.\n",
    "- **max iter**, default =200, indicates the max number of iterations of the solver.\n",
    "- **tol** , default 1e-4: is a tolerance factor that allows the solver to be stopped early when there is no improvement.\n",
    "- **Verbose** bool, default=’False’ : change to “True” to print progress messages to stdout.\n",
    "- **warm_start** bool, default=’False’: When set to True, reuse the solution of the previous call to fit as initialization, otherwise, just erase the previous solution.\n",
    "- **early_stopping** bool, default=’False’: Whether to use early stopping to terminate training when validation score is not improving (prevent overfitting). If set to true, it will automatically set aside 10% of training data as validation and terminate training when validation score is not improving by at least tol for n_iter_no_change consecutive epochs. The split is stratified, except in a multilabel setting. If early stopping is False, then the training stops when the training loss does not improve by more than tol for n_iter_no_change consecutive passes over the training set. Only effective when solver=’sgd’ or ‘adam’.\n",
    "- **validation_fraction** float, default=0.1 The proportion of training data to set aside as validation set for early stopping. Must be between 0 and 1. Only used if early_stopping is True.\n",
    "- **n_iter_no_change** int, default=10: Maximum number of epochs to not meet tol improvement. Only effective when solver=’sgd’ or ‘adam’.\n",
    "\n",
    "The main commands are:\n",
    "- mlp = MLPClassifier(hidden_layer_sizes=(20, 20, 10,), max_iter=300, activation='relu', solver='adam', random_state=42)\n",
    "- mlp.fit(xtrain, ytrain)\n",
    "- ypred = mlp.predict(xtest)\n",
    "\n",
    "Accuracy of the model can eventually be computed using the library **sklearn.metrics** and the commands:\n",
    "- Score: accuracy_score(y_test, y_pred)\n",
    "- Report: classification_report(y_test, y_pred))\n",
    "\n",
    "The usual sklearn learning and testing functions are as follows: (**fit**, **predict**, **score**)."
   ]
  },
  {
   "cell_type": "code",
   "execution_count": 9,
   "id": "4294f0ff",
   "metadata": {},
   "outputs": [],
   "source": [
    "from sklearn.neural_network import MLPClassifier\n",
    "from sklearn.metrics import accuracy_score, classification_report"
   ]
  },
  {
   "cell_type": "code",
   "execution_count": 27,
   "id": "9614d900",
   "metadata": {},
   "outputs": [
    {
     "name": "stdout",
     "output_type": "stream",
     "text": [
      "Dimensions de y_train : (8,)\n",
      "Dimensions de y_test : (2,)\n"
     ]
    }
   ],
   "source": [
    "print(\"Dimensions de y_train :\", y_train.shape)\n",
    "print(\"Dimensions de y_test :\", y_test.shape)\n",
    "\n"
   ]
  },
  {
   "cell_type": "code",
   "execution_count": 28,
   "id": "86309020",
   "metadata": {},
   "outputs": [
    {
     "ename": "NameError",
     "evalue": "name 'projected_test_data' is not defined",
     "output_type": "error",
     "traceback": [
      "\u001b[0;31m---------------------------------------------------------------------------\u001b[0m",
      "\u001b[0;31mNameError\u001b[0m                                 Traceback (most recent call last)",
      "Cell \u001b[0;32mIn[28], line 3\u001b[0m\n\u001b[1;32m      1\u001b[0m mlp \u001b[38;5;241m=\u001b[39m MLPClassifier(hidden_layer_sizes\u001b[38;5;241m=\u001b[39m(\u001b[38;5;241m10\u001b[39m, \u001b[38;5;241m100\u001b[39m, \u001b[38;5;241m10\u001b[39m,), max_iter\u001b[38;5;241m=\u001b[39m\u001b[38;5;241m300\u001b[39m, activation\u001b[38;5;241m=\u001b[39m\u001b[38;5;124m'\u001b[39m\u001b[38;5;124mrelu\u001b[39m\u001b[38;5;124m'\u001b[39m, solver\u001b[38;5;241m=\u001b[39m\u001b[38;5;124m'\u001b[39m\u001b[38;5;124madam\u001b[39m\u001b[38;5;124m'\u001b[39m, random_state\u001b[38;5;241m=\u001b[39m\u001b[38;5;241m42\u001b[39m)\n\u001b[1;32m      2\u001b[0m mlp\u001b[38;5;241m.\u001b[39mfit(projected_train_data, y_train)\n\u001b[0;32m----> 3\u001b[0m y_pred \u001b[38;5;241m=\u001b[39m mlp\u001b[38;5;241m.\u001b[39mpredict(projected_test_data)\n\u001b[1;32m      4\u001b[0m accuracy \u001b[38;5;241m=\u001b[39m accuracy_score(y_test, y_pred)\n\u001b[1;32m      5\u001b[0m classification_rep \u001b[38;5;241m=\u001b[39m classification_report(y_test, y_pred)\n",
      "\u001b[0;31mNameError\u001b[0m: name 'projected_test_data' is not defined"
     ]
    }
   ],
   "source": [
    "\n",
    "mlp = MLPClassifier(hidden_layer_sizes=(10, 100, 10,), max_iter=300, activation='relu', solver='adam', random_state=42)\n",
    "mlp.fit(projected_train_data, y_train)\n",
    "y_pred = mlp.predict(projected_test_data)\n",
    "accuracy = accuracy_score(y_test, y_pred)\n",
    "classification_rep = classification_report(y_test, y_pred)\n",
    "print(f\"Accuracy: {accuracy}\")\n",
    "print(\"Classification Report:\")\n",
    "print(classification_rep)\n"
   ]
  },
  {
   "cell_type": "markdown",
   "id": "11210752",
   "metadata": {},
   "source": [
    "Donc Ici nous pouvions pas tester à cause du problème de size que j'ai eu auparavant "
   ]
  },
  {
   "cell_type": "markdown",
   "id": "bd6db7a1",
   "metadata": {},
   "source": [
    "**Bilan:**\n",
    "- L'accuracy parfaite de 1.0 indique une performance optimale du modèle MLP sur l'ensemble de test.\n",
    "- Les métriques de précision, rappel et F1-score, tous égaux à 1.00 pour la classe 1, confirment la capacité du modèle à effectuer des prédictions précises et à capturer toutes les instances de cette classe. \n",
    "**NB:** On fait le test sur une datas specifique ( niveau type , niveau size ) c'est pour ca on onbtient une accuracy de 1 ."
   ]
  },
  {
   "cell_type": "markdown",
   "id": "6ce0f1a6",
   "metadata": {},
   "source": []
  },
  {
   "cell_type": "markdown",
   "id": "383dba78",
   "metadata": {},
   "source": []
  },
  {
   "cell_type": "markdown",
   "id": "35ca0e1b",
   "metadata": {},
   "source": []
  },
  {
   "cell_type": "markdown",
   "id": "db991ee5",
   "metadata": {},
   "source": [
    "# Partie III (Bonus): reduction of the training basis by k-medoids to optimize classification by k-NN with DTW as similarity measure\n",
    "\n",
    "For each class of activity\n",
    "a) Compute medoids using *k-medoids* from the scikit-learn library with DTW as similarity measure.\n",
    "\n",
    "b) Vary the parameter k and observe the evolution of the *silhouette score*: select the best by the elbow method\n",
    "\n",
    "c) Replace the samples with the medoids found from the best k parameter\n",
    "\n",
    "Finally, run the k-NN algorithm for classification and evaluate as before: the only change is that your training set has been replaced"
   ]
  },
  {
   "cell_type": "markdown",
   "id": "5fc251d7",
   "metadata": {},
   "source": [
    "**Information:**\n",
    "We use the KMedoids (kM) method: this is an unsupervised approach which clusters your data in k groups such that a similarity measure is:\n",
    "- minimized inside each group\n",
    "- maximized inside between groups\n",
    "We obtain for each group a centroid (or medoid) which is at the center and thus represents best the group (w.r.t. the similarity measure).\n",
    "\n",
    "The algorithm kM is implemented in a package called **sklearn_extra.cluster**.\n",
    "Here are the main commands:\n",
    "- The line **clf = sklearn_extra.cluster.KMedoids(n_clusters=k)** creates an object of type classifier based on the n_neighbors closest neighbors,\n",
    "- The instruction clf.fit(X, y) uses the data to define the classifier (training),\n",
    "- The command **clf.predict()** is used to classify the new examples,\n",
    "- The command **clf.predict_proba()** allows to estimate the probability of the proposed classification,\n",
    "- The command **clf.score(xtest, ytest)** computes the global score of the classifier for a given dataset.\n",
    "\n",
    "<img src=\"https://scikit-learn-extra.readthedocs.io/en/stable/_images/sphx_glr_plot_kmedoids_digits_001.png\" alt=\"k-Medoids example\" />\n",
    "\n",
    "KMedoids takes as argument *metrics* which can be your DTW function.\n",
    "\n",
    "The silhouette score is then a measure of the quality of your clustering, and is implemented as the function silhouette_score in a package called **sklearn.metrics**."
   ]
  },
  {
   "cell_type": "code",
   "execution_count": null,
   "id": "31be8c18",
   "metadata": {},
   "outputs": [],
   "source": [
    "# TODO (Bonus)"
   ]
  }
 ],
 "metadata": {
  "kernelspec": {
   "display_name": "Python 3 (ipykernel)",
   "language": "python",
   "name": "python3"
  },
  "language_info": {
   "codemirror_mode": {
    "name": "ipython",
    "version": 3
   },
   "file_extension": ".py",
   "mimetype": "text/x-python",
   "name": "python",
   "nbconvert_exporter": "python",
   "pygments_lexer": "ipython3",
   "version": "3.11.3"
  }
 },
 "nbformat": 4,
 "nbformat_minor": 5
}
